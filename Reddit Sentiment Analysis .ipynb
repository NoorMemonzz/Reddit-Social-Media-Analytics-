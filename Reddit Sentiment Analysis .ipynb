{
 "cells": [
  {
   "cell_type": "markdown",
   "id": "0e21e521",
   "metadata": {},
   "source": [
    "# Sentiment Analysis on a Reddit post of Cryptocurrency "
   ]
  },
  {
   "cell_type": "markdown",
   "id": "fbcfb97f",
   "metadata": {},
   "source": [
    "In this notebook, I am going to analysis a reddit post by using the Python Reddit API Wrapper(PRAW)"
   ]
  },
  {
   "cell_type": "code",
   "execution_count": 54,
   "id": "7db3de0f",
   "metadata": {},
   "outputs": [],
   "source": [
    "import praw"
   ]
  },
  {
   "cell_type": "code",
   "execution_count": 55,
   "id": "94230dbf",
   "metadata": {},
   "outputs": [],
   "source": [
    "import config_reddit"
   ]
  },
  {
   "cell_type": "code",
   "execution_count": 56,
   "id": "3e531c6a",
   "metadata": {},
   "outputs": [],
   "source": [
    "import spacy"
   ]
  },
  {
   "cell_type": "code",
   "execution_count": 57,
   "id": "6a48db89",
   "metadata": {},
   "outputs": [],
   "source": [
    "import config_reddit "
   ]
  },
  {
   "cell_type": "code",
   "execution_count": 58,
   "id": "0919c594",
   "metadata": {},
   "outputs": [],
   "source": [
    "import pandas as pd"
   ]
  },
  {
   "cell_type": "code",
   "execution_count": 59,
   "id": "ca3ecc63",
   "metadata": {},
   "outputs": [],
   "source": [
    "# establish an API connection\n",
    "reddit = praw.Reddit(user_agent=f\"Exploration script by /u/{config_reddit.user_name}\",\n",
    "                     client_id=config_reddit.app_id,\n",
    "                     client_secret=config_reddit.app_secret)"
   ]
  },
  {
   "cell_type": "code",
   "execution_count": 60,
   "id": "dd4bffb3",
   "metadata": {},
   "outputs": [],
   "source": [
    "url = \"https://www.reddit.com/r/CryptoCurrency/comments/wbjii0/daily_general_discussion_july_30_2022_gmt0/\""
   ]
  },
  {
   "cell_type": "code",
   "execution_count": 61,
   "id": "e7d94c9d",
   "metadata": {},
   "outputs": [],
   "source": [
    "submission = reddit.submission(url=url)"
   ]
  },
  {
   "cell_type": "code",
   "execution_count": 62,
   "id": "cdf04ad4",
   "metadata": {},
   "outputs": [],
   "source": [
    "post_comments = []"
   ]
  },
  {
   "cell_type": "code",
   "execution_count": 63,
   "id": "b7f32904",
   "metadata": {},
   "outputs": [],
   "source": [
    "submission.comments.replace_more(limit=None)\n",
    "for comment in submission.comments.list():\n",
    "    post_comments.append(comment.body)"
   ]
  },
  {
   "cell_type": "code",
   "execution_count": 64,
   "id": "18b321fc",
   "metadata": {},
   "outputs": [
    {
     "data": {
      "text/plain": [
       "['One day Bitcoin is gonna allow me to give up working these weekend shifts 😔',\n",
       " \"Volatility is the price you pay for the world's best performing asset.\",\n",
       " 'Just got back from a few days camping. Looks like things popped off while I was gone. Should go camping and skip charts more often.',\n",
       " 'I miss the days when everyday was green and my job became staring at green charts on an hourly basis.',\n",
       " 'the good news is that the prices are still very good to DCA\\n\\nthe bad news is I am broke',\n",
       " 'How can anyone say volatility is bad if they expect the assets to appreciate in value? \\n\\n\\nAfter showing use, more people can see it in action, then want it. But all in waves.        \\nIf you *want* a $69k btc then it has to go up, if you want btc at 420k then there has to be periods of extreme volatility.',\n",
       " 'The Polkadot didn’t look so bad today!',\n",
       " '🌹 ROSE. look it is about time for another 10% spike. Look for it real soon. Consolidation is in and ready 🌹',\n",
       " 'Bought 100 dollars eth, prepare for a dump lol',\n",
       " 'If I wake up tomorrow to 25k btc, first comment will get ma moons',\n",
       " \"i know what I'm doing \\n\\ntrust me I saw the big short once\",\n",
       " 'LOL Wikipedia has updated the definition of a recession 22 times in the last 24 hours. It has now suspended edits.',\n",
       " \"Bitcoin is stuck at 23K the same way I'm stuck in that friendzone.\",\n",
       " \"Just updated my ledger live desktop app and my BTC was almost half of what it was before updating. I thought surely it's a glitch, there are no unauthorized transactions, so I went over to the ledger wallet subreddit to poke around.\\n\\nTurns out there ***was*** a glitch, and it was that it was displaying doubled transactions in the app prior to the update - so all my bitcoin is there it's just way less than I thought I had.\\n\\nNot only do I feel like I just got hit in the balls, I feel like I punched myself in the balls because I didn't pay close enough attention to realize things didn't add up.\\n\\nUgh, I'm gonna drink now.\",\n",
       " '![gif](giphy|CFt9n1NuLruzxmGA1T)',\n",
       " \"Well an interesting place it seems,nice to sit back and watch your investment go up,makes me think of good times too come if I comparison they were definitely some coins that didn't hold up though.\",\n",
       " \"Fear and Greed up to 42?  I'm pretty bullish, but thought it would take longer to get over 40.\",\n",
       " 'I’ve never seen the daily or this sub so slow. Less than 5k people online here. Wild.',\n",
       " 'Tell me your portfolios worth without telling me your portfolios worth, best one wins an award.',\n",
       " 'Feels like the sentiment is turning',\n",
       " 'Can monkeypox really push for another crash ? With covid btc took a hit before climbing high, acting unexpectedly.',\n",
       " 'are we going to see a historically green sunday tomorrow?',\n",
       " 'BTC is down slightly, but people are buying ICP…\\n\\nOk sure 🤷🏻\\u200d♂️',\n",
       " \"I think I have paper hands. I sold all my ETH that I bought for $950 at $1750. It was the most profit I've ever had... I think this hodl thing is not for me\",\n",
       " \"Only 24 more days until the next deposit of fiat into Kraken, if ETH dropped like 20% though I'd snatch up a sizable chunk, but I doubt we'll see lows like the 12th of July again for some time, if at all\",\n",
       " \"Back in my day when a DAO got hacked for a measly 60 million in today's standards, Mr. vitalik buterin himself would roll back the chain for you and you get to have ETH and ETC in your wallet.\",\n",
       " 'Scammer in my DMs just said that they disagree with me. Bold strategy to get me to send them my BTC. XD',\n",
       " \"Do you think we're at the start of a pullback  this weekend and how low?\",\n",
       " 'Stocks have best month since Nov 2020. Crypto feeling more solid by the day. Dead cats bouncing? Or have we seen the worst from both?',\n",
       " '[deleted]',\n",
       " 'Zilliqa been down for hours. How embarassing.',\n",
       " 'I was really hoping to win MegaMillions.',\n",
       " \"Received 84 cro for my netflix rebate... I'm gonna miss that xD\",\n",
       " 'It barely dumped, was looking for sales but none to be found',\n",
       " 'I smell a weekend dump. How are we all feeling about this weekend?',\n",
       " \"I just want to get on record here. I haven't sold anything at all and, I just bought more.\",\n",
       " \"I used to do a weekly DCA of 50% in crypto and 50% in stocks.\\nLately I've found myself shifting more to a 30/70, with my crypto DCA reduced only to BTC and Algo and a bit of cash on the side for future dips.\\nAm I the only one scared to put too much in this current crypto market?\",\n",
       " \"We're going to dump now and this whole weekend!!!!\",\n",
       " 'Out of pretty much all alts. \\n\\n56% BTC \\n\\n44% ETH\\n\\nFeels good 😊!!',\n",
       " 'ETH gas at 7 gwei 👀 lowest I’ve ever seen',\n",
       " 'The crab just under 24k feels better than the crab just under 20k.',\n",
       " 'Sold all my ETH since I’m willing to gamble this is a bull trap. Hope to enter back below $1k with the same amount.',\n",
       " 'Someone is about to get wrecked, a large number of shorts in the last 24hr have been placed. So will it be shorts or longs, Saturday is shaping up nicely.\\n\\nGrabs popcorn',\n",
       " \"The term bull run makes me think of all the stock brokers running together in the park in their suits, they're looking at each other and laughing as they run\",\n",
       " 'Gonna go buy my partner roses in celebration of this beautiful pump.\\n\\nShouout to all the bRose out there who averaged down in the 5c range. Rocket time boys!',\n",
       " 'daily streak of waiting til CRO hits $2....how many days do you think I will make it to?\\r  \\nDay 243\\r  \\n(Yes, I know it’ll be forever. Thanks in advance for stating the obvious)',\n",
       " 'Hodling my portfolio hoping that in 4 years I can use it as a wedding money.',\n",
       " 'Most coin mentions on r/cc (2022-07-29):\\n\\n|Coin|Mentions|  \\n|:-|:-|  \\n|BTC|485|  \\n|ETH|387|  \\n|ADA|108|  \\n|XRP|65|  \\n|SOL|61|  \\n|ETC|53|  \\n|CEL|53|  \\n|MATIC|51|  \\n|MOON|47|  \\n|USDC|46|  \\n|DOT|38|  \\n|LUNA|30|  \\n|ALGO|29|  \\n|USDT|29|  \\n|DOGE|21|  \\n|ATOM|19|  \\n|ROSE|18|  \\n|LINK|16|  \\n|BNB|16|  \\n|UST|16|  \\n\\n[Data source and app](https://www.redditcoins.app/)\\n\\n🇺🇦🇺🇦🇺🇦',\n",
       " 'I’ve been in a bit of a pinch lately due to some unforeseen expenses and sold some Bitcoin today. In one instant I sold $15 worth of BTC which turned to CAD that I could then use through my crypto CC to buy breakfast which I earned some sats back doing so.',\n",
       " 'Damn, these dips are getting instantly erased.',\n",
       " \"Bitcoin is like a penis. Sometimes it's up, sometimes it's down. It's hard to grasp but it won't stay hard forever. When in doubt, just ride it out.\",\n",
       " \"I was thinking of downloading every single daily close of BTC since 2012, import them into excel sheets and try to make stats / find patterns out of them (the % changes), e.x. After 3 red days, 70% of the time we get a green one, or after a 6% pump we will see a 2% dump, etc.. \\n\\n\\nThen after the stats are complete I would try to find these statistical patterns in today's charts and place long / short orders accordingly, in hopes of having a 60%+ win rate so that I can profit. \\n\\n\\nWould something like this work?\",\n",
       " 'Hello I am a very young male who wants to learn and enter the world of crypto, to be able to do so, what would anyone recommend learning and knowing about? Since right now I only have heard about Bitcoin and wanted to learn as how I could make money and knowledge is never a bad thing, but I\\'ve also heard about people being stupid and not knowing how crypto \"works\" and losing money, so I\\'ve looked around a bit and don\\'t understand what people would consider good knowledge and bad knowledge and so I am here now. Thank you',\n",
       " 'She’s dumping again dammit. Guess I’m out to 22k again.  Someone 14000 btc moved to sell.',\n",
       " 'Took profit yesterday. Today started DCAing back in. Let see what the future brings',\n",
       " 'Next week is gonna be red imo, this rally was unsustainable',\n",
       " '3 hours ago $23 away from being back to green... now $230',\n",
       " 'Still too much confidence in here, dump it and freeze it for a year long with 0.5% intraday volatility',\n",
       " 'What the crab 🦀 is going on',\n",
       " '[https://www.np.reddit.com/r/AbsoluteUnits/comments/wbff6j/beautiful_pinkskinned_not_albino_water_buffalo/?utm_source=share&utm_medium=ios_app&utm_name=iossmf](https://www.np.reddit.com/r/AbsoluteUnits/comments/wbff6j/beautiful_pinkskinned_not_albino_water_buffalo/?utm_source=share&utm_medium=ios_app&utm_name=iossmf)\\n\\ngif it to me baby',\n",
       " \"Takes a deep drag of hopium. Asia has started it's day, let's hope the run continues\",\n",
       " 'Bitcoin wants 24k so bad!!! We’re so close',\n",
       " 'Literal 10% run and bullrun is back!!! Sell your house!! Get your loans!!! Buy buy vuy!!',\n",
       " 'Haha fuck your dump. You thought bitch',\n",
       " \"Aaaand here comes the dip.  Hope y'all have your hand on a hip.\",\n",
       " \"What are people's thoughts of $FET\",\n",
       " 'What are the best exhanges to do small frequent buys in? I DCA weekly rn using FTX weekly and was wondering if there was anywhere better to be doing my weekly buys? Mainly buying BTC and ETH',\n",
       " 'did not touch my stables for some peace of mine then the weekly pump had no issues turning that into fomo stress',\n",
       " 'Has crypto permanently ruined the word \"Rug\" for anyone else? Driving past a store that proudly declares they have the best rugs or whatever gets my \"Not today Satan\" automatic instinct up now',\n",
       " 'Come on americans we have 30 mins to turn this day green!!',\n",
       " 'If you were going to put a limit buy between $1600 and $1650 on ETH in the next 24 hours, Where would you put it?',\n",
       " \"Did CBP get rid of usdc trading pairs? Somehow I have like $12 in usdc in my account and I can't do shit with it.\",\n",
       " \"Hydro finance ll not happen in secret network (something shadi happened when they ask for founds for their work, but I can't find a direct prop voted for it... So, probably they just pick rewards from the node and move on)\\n\\n https://link.medium.com/cHWR1bCN4rb\",\n",
       " 'Prices are going to go up before college students get their financial aid money when back to school starts so they get less for their dollars, bet. So literally don’t worry at all because that’s only 4 weeks away.',\n",
       " 'Bye bye bad days\\n\\n![gif](giphy|3ohze3kG5qO9DcTUbe)',\n",
       " 'Finally, some fucking red .\\n\\nLooks like Bear 🧸 is back on the menu boys 😎',\n",
       " 'Zero buyers and not many sellers. Nothing to see here..',\n",
       " 'This bear market has got it looking kinda empty in here.\\n\\nJust keep hydrating crypto fam.',\n",
       " 'Are we gonna be red or green today?',\n",
       " 'So btc is like lame snp futes now whaaat',\n",
       " 'Same 😔',\n",
       " \"Never gonna happen for me. It's sad but it's the truth :(\",\n",
       " 'Love the experience my dude.',\n",
       " 'Spoken like a white hype man',\n",
       " \"Didn't think of it like this, interesting perspective.\",\n",
       " 'To the upside and downside. I think we pamp to 28k next week then damp to 14k the following few weeks.',\n",
       " 'Happy cake day',\n",
       " 'Just leave already man',\n",
       " 'Camp away bro',\n",
       " \"you should do that even if the charts don't pop off /s\",\n",
       " \"Don't let your memes be dreams\",\n",
       " 'The good old days.',\n",
       " \"What do you mean? I mean they're still green and I'm still watching them.\",\n",
       " 'Bear rally tho imo',\n",
       " \"Then those people only want one straight line up. A consistent 1% per day, for example, would eventually make btc reach $69k or whatever, but I don't think it could be called 'volatility'.\\n\\nOfc it's unrealistic, but maybe that's what they're talking about 🤷\\u200d♂️\",\n",
       " 'Happy cake day!',\n",
       " \"It's one of the more solid Alts. Fully expect it to survive this bear market.\",\n",
       " 'fuck sake, I wish you whales would stop moving the markets each time you buy. Really ruins things for us regular retail buyers',\n",
       " '#IF... \\n\\nyou wake up tomorrow',\n",
       " \"I'm sure we'll be crabbing.\",\n",
       " \"If you *don't* wake up tomorrow can I have your moons?\",\n",
       " 'This made me laugh then i remembered crypto is unpredictable',\n",
       " 'dude do an AMA',\n",
       " 'I see you have done your DYOR, good!',\n",
       " 'I know this is said often, but literally 1984. Tell the people what to think and silence what might challenge that notion',\n",
       " 'Lets make 23 out of it.....',\n",
       " \"Btc to 24k: He doesn't know what he's missing. I'd treat you right.\",\n",
       " 'Is that better than being stuck in the danger zone 🤔',\n",
       " \"Word of advice man. Don't punch yourself in the balls\",\n",
       " 'Lmao its like when you load up metamask and it shows you have like 12k in eth then it refreshes 2 secs later back to 0 and youre like damn no1 mistakenly sent me 12k',\n",
       " 'So you never lost any money?',\n",
       " 'Lmao',\n",
       " 'I caught it!',\n",
       " 'People feeling good, many been coming to vent and seek comradeship in hard times? (May/June).',\n",
       " '<looks at my steaming pile of alt-coins>\\n\\nWho wants to buy my VHS collection?',\n",
       " 'Right now I could buy a decent used Subaru. At ATH I could buy a small house in Ohio.',\n",
       " 'It has a very nice personality.',\n",
       " 'had a house depoist for a while there, now could buy an okay used sedan of some type.',\n",
       " 'A semester at Baylor university',\n",
       " 'Pog collection',\n",
       " 'Three hookers & a chilly cheese steak.',\n",
       " '(NASDAQ) - (S&P 500) ÷ (US Dollar Index) x 70.',\n",
       " 'House dp in western Canada.',\n",
       " \"Cases are still super low and there is already a vaccination for it.  If it starts becoming a real problem they'll start manufacturing vaccinations en mass.\",\n",
       " 'No, my Banano bag is safe.',\n",
       " \"I'm 50% sure we will.\",\n",
       " 'Yes please. But why wound you say that?',\n",
       " 'People still buy that coin?',\n",
       " \"Lmao why people buy that shit? It's just all above me tbh here.\\n\\nI mean what's the point of that coin? I've never understood that. Have never got that thing man.\",\n",
       " 'No, people are selling ICP. Hence it forces the price up to liquidate them. How do people still believe that buying causes the price to go up? Buying causes the price to go down and selling causes the price to go up.  Once they get liquidated, because they had to buy back in, the price will then go back down.',\n",
       " \"Better than selling all the ETH you bought at $2-4k at $950...don't ask me how I know.\",\n",
       " 'Nothing wrong with taking profits! Most people delay it due to greed and end up missing the opportunity.',\n",
       " 'It’s ok. We are guaranteed to see below 1700. Just DCA back if you want.',\n",
       " \"Yeahhh gunna hodl till 2024/2025. Just adding to the positions if we see 950..I'm more into the accumulation.\\n\\nI think we've seen bottom, probably wrong lol.\",\n",
       " 'We’ll never see those lows again?\\nCrypto: hold my beer',\n",
       " 'This is crypto.. anything can happen lol. Remember everyone saying we Will never see sub 20k?',\n",
       " 'Wonder if they actually get anyone to send them anything',\n",
       " 'Same yesterday',\n",
       " 'Had been with CB since 2017 — never had an issue until last month. Their customer support people are very incompetent. Moved all coins to ledger last week.',\n",
       " '*first time?*',\n",
       " 'As about a megamillion other people were..',\n",
       " 'Here, you win a random award! Hope this helps to ease your sorrows.',\n",
       " 'Got til January at least',\n",
       " 'I fomo in that’s why it went down no lie',\n",
       " 'September will be when the stock market dumps.',\n",
       " \"less time on the crapper, more time in the forest.\\n\\nThat'll take care of your smell problem and the weekend.\",\n",
       " '*One of us!*',\n",
       " 'Welcome to the club',\n",
       " 'Champ. See you in Miami.',\n",
       " 'I understand the fear. But we are here for the volatility. We go up, we also go down',\n",
       " 'You know nothing Jon Snow.',\n",
       " 'Hope so! I need to load up on some more ETH.',\n",
       " 'Started picking up a few alt positions. \\n\\nI kind of envy the simplicity of just BTC ETH.',\n",
       " 'Only if it could stay that way',\n",
       " 'The crab at 50k will feel much better than 24k.',\n",
       " 'I wil get this 🦀 cook it and eat it with some 🌶 sauceeee',\n",
       " 'He sold…',\n",
       " 'Sold before the merge even completes, smh',\n",
       " '![gif](giphy|2UvAUplPi4ESnKa3W0)',\n",
       " 'cryptos, this guy',\n",
       " 'Make sure to spray a little bit of water on the roses 5-7 mins before giving them to your partner.\\n\\nLittle Water increases the scent of roses & make them look more matty & beautiful.',\n",
       " \"Eh screw the haters, you keep on keeping on.\\n\\nYou'll be a legend in the next Bull Run 😂\",\n",
       " 'just stop already',\n",
       " 'Go ROSE!',\n",
       " '*Getting sats for eating? Sign me up!* Hopefully everything gets better.',\n",
       " \"True. I thought that 24k will cause a mild-size dumpage but the rejection wasn't that bad at all. Ofc all of this doesn't mean we're back in a Bull market...\",\n",
       " 'And pull out in time',\n",
       " 'Idk, I’m a chick but I feel like a dildo reference should be here somewhere…red, green, whatever',\n",
       " \"Lol, well if that's how you're going to play it then okay I guess.\",\n",
       " 'Not unless you are better than the AI models trained to trade like this.',\n",
       " 'Typically, markets have a history for not being predictable in the way you are describing. But it still sounds like a fun exercise if you got the time and maybe you’ll find some nuggets that could give a small trading edge? It’s definitely not guaranteed money though.',\n",
       " 'Does the past dictate the future?\\n\\nDoes crypto react to external factors in which case how will  BTC movements over time reflect changes to external factors?',\n",
       " \"If anyone knew this answer they'd be rich af.\",\n",
       " 'Excel TA, markets volatility is so high that by the moment you had enough samples you have already deviated making the analisis useless.',\n",
       " 'The highest paying software engineer and data analyst salaries come from trading firms, building models based off work performed by teams of PhDs.  Data that utilizes ML, political, climate, economical, and other factors.  And they still just scalp trade for the most part.  Go ahead and try it, but I highly recommend paper trading for a few years and refining your models before putting any money into it.',\n",
       " 'Read bitcoins white paper for a start https://bitcoin.org/en/bitcoin-paper',\n",
       " \"I personally feel that I'm not in crypto to make money. I'm in crypto to make crypto & bitcoin is my standard. It's important to know that most people here have an issue with fiat money, how it's created and who controls it. If you feel the same way you might be in the right place.\",\n",
       " 'Bad knowledge would generally be any information being shared here.',\n",
       " 'Less than 1% drop in 24 hours is not a dip.',\n",
       " 'oh you know about it? I was trying to be sneaky about it',\n",
       " \"> dumping\\n\\nYou guys are way too loose with this word. It's still consolidating at the top of an uptrend.\",\n",
       " 'Good luck 🍀',\n",
       " 'Easy there Satan',\n",
       " 'Stablecoins should be called crabcoins',\n",
       " 'Very original.',\n",
       " \"Broaden your time horizon. I ain't a bear - but I know we're still in bear country. It's nice seeing a little rally instead of just continued dumping, but I don't think it's time to start gloating.\",\n",
       " 'Is this a dip for virus-sized ants?',\n",
       " 'More like a crab 🦀 no too much dip',\n",
       " 'She just filed for molestation',\n",
       " 'Never heard of it, no thoughts on it',\n",
       " \"Don't stress about it boys, that's not going to do anything.\",\n",
       " '\"Timmy, quick, pull the rug!\"  \\n\"Grandma showed me her new rug today. It\\'s pretty sweet.\"',\n",
       " 'the daily candle closed 3 and a half hours ago',\n",
       " 'On an exchange.',\n",
       " 'Drop the 1 and log out for a couple months.',\n",
       " \"I'm out for a bit. I made decent money on this run but it feels like we're losing steam. I could certainly be wrong, but it smells like the end of a bear rally and time for a leg down.\",\n",
       " '$1200',\n",
       " 'Yes',\n",
       " 'Depends on what clothes mama puts out.',\n",
       " 'Living up to your flair as always.',\n",
       " 'I’m pretty sure we go back to 69k by the end of the month',\n",
       " 'Hes hopefully talking about Eth because bitcoin is performing very badly',\n",
       " 'Just do it! \\n\\nMake your memes come true! \\n\\nNothing is impossible!',\n",
       " \"And those people are dumb and they'll not get that lol.\",\n",
       " 'Well float my boat!',\n",
       " 'Happy cake day man, hope that you have a good day ahead.',\n",
       " 'This guy DYODYORs.',\n",
       " 'this is exactly what is happening. we are no longer allowed to believe our own eyes because they tell us that what we see is not true.',\n",
       " 'At least we’re aware of it ..? 🙃',\n",
       " \"Lol, that's the most toxic line I've heard. Don't want that relationship.\",\n",
       " 'indisputably, but love zone would be great.',\n",
       " 'sometimes, we must learn lessons by doing, and not by listening to the wise words of others.\\n\\nOP punch yourself in the balls and see if it helps',\n",
       " 'I wish it was 2 seconds later, I thought I had that amount for like 2 months.',\n",
       " \"No, the app was just displaying the wrong amount and I didn't catch on that it was off almost 40%. I feel really stupid right now.\\n\\nI double checked my withdrawals on Coinbase just to be sure and confirmed I am, in fact, a dummy. I just thought my dollar cost averaging was working really great. \\n\\nBetter to realize I need to pay better attention without actually losing anything, but it still stings.\",\n",
       " 'Second best, but I have no awards left. Sorry my Aussie friend.',\n",
       " \"One day you'll be able to buy a house in Manhattan! Have a nice day my friend.\",\n",
       " \"That's a choice that You'll have to make really carefully here.\",\n",
       " 'Does that include TMNT slammers?',\n",
       " '![gif](giphy|42HJ26S7bvbmVhcaR2)',\n",
       " 'Yeah this prediction just doesn’t cut it.',\n",
       " 'Right?',\n",
       " 'People love here doing the gambling and this is the reason they are buying that shit at the moment.\\n\\nDo you really think that peopl care about the point and use case of any coin? All we want is the profit no matter from which coin.',\n",
       " 'We know the market does the exact opposite to what is said on here, so no, we will never go that low ever, never ever ever.',\n",
       " 'Hell I remember when everyone said there’s no way we go below 30k',\n",
       " \"Thank you.  It's not quite a 1.28 Billion jackpot but it helps.\",\n",
       " \"Oh, don't get me wrong, I believe in crypto (40% of my portfolio) and I kept my weekly DCA through all the pumps and dumps in the last 1 year.\\n\\nWhat I'm scared is how macro is still horrible, yet markets pump. I can't shake the feeling a big(ish) dump is coming.\\nThat's why I'm keeping my BTC and Algo DCA going, while keeping the surplus money as fiat to hopefully buy the dip?\",\n",
       " 'I personally hold BTC, ETH and some alts that are World Economic Forum new world order coins, if you cant beat them, join them!',\n",
       " 'Sold at $2k before and dcad all the way from $800 to now. Doing the same thing again!',\n",
       " 'I’m buying back, there’s still a month and a half',\n",
       " 'No u',\n",
       " 'Yes. Small bag.',\n",
       " 'Shakepay is awesome for Canadians!',\n",
       " 'I get plenty of saturated fats already thank you',\n",
       " 'And always remember, timing it beats time in it.',\n",
       " \"Well you don't have that risk with the dildos tho? Are you?\",\n",
       " \"Yep, they're even better at these things and yet they fail at this.\",\n",
       " \"I would add...this is crypto's first recession as well. \\n\\nBut would be a fun project.\",\n",
       " 'We all here in the crypto with some sort of the dream and i am hoping that one day we will achieve that is well.\\n\\nFor me personally i looking to make the money here so that i can buy some more bitcoin for the future. Because bitcoin is the future.',\n",
       " 'Yes but I am just looking for the base knowledge to be able to even do anything in terms of crypto. Thanks',\n",
       " 'Indeed. Even the ants are unimpressed.',\n",
       " 'I’m just trying to have some fun while looking at the charts. Nothing serious',\n",
       " '“Grandmas new rug.”\\nI think we have a song there.',\n",
       " 'Michael Burry over here!',\n",
       " \"What's your price target on BTC then for reference? $14k?\",\n",
       " 'Your username indicates Red',\n",
       " \"Why we need to put on the clothes, it's freaking weekend.\",\n",
       " \"Not real funny tbh, I am really at a dead end in life 😢.\\n\\nI don't want to think about this, I don't want to ruin my morning. After months I had somewhat of a good morning today!\",\n",
       " \"I'm pretty sure we will go to 100k by the end of 2021.\",\n",
       " 'And splash billions in the stock market in order to try and convince us. So dystopian',\n",
       " \"Nope lol, only thing You'll get out of that shit is stress.\",\n",
       " \"No, that's what the hookers are for.\",\n",
       " \"Well that's fine I guess, don't have to feel bad about that.\",\n",
       " 'Whales and market manipulators don’t give a shit about what this subreddit says. Lmao',\n",
       " 'So yeah but some juicy buy orders and hope they get filled lol',\n",
       " '^(Small victories.)',\n",
       " 'Oh in that case we are in agreement. Im expecting this as well.',\n",
       " 'Nice trade!',\n",
       " \"When the green dildo is too big, I can't seem to get it out. Those red ones though... pull out game is strong.\",\n",
       " 'Love your username by the way',\n",
       " 'Remember, there is always someone poorer and more troubled in the world. Just enjoy what you got!',\n",
       " \"I'll take the green dildos but I still don't believe these ding dongs. They really think we are that dumb? Us millennials know a recession when we see one 👀\",\n",
       " 'Damn, no wonder your bitcoin stack is half what you thought...\\n\\nBudgeting man! Budgeting!!!',\n",
       " \"I don't have to, but I need an excuse to get drunk alone.\",\n",
       " 'Bro it was a joke',\n",
       " 'Thankyou 🧁',\n",
       " 'True, there is always someone who is not doing well in their life.',\n",
       " \"Look, I may have not realized the extra bitcoin it was displaying - but my hooker budget is perfectly allocated. It's called priorities.\"]"
      ]
     },
     "execution_count": 64,
     "metadata": {},
     "output_type": "execute_result"
    }
   ],
   "source": [
    "post_comments"
   ]
  },
  {
   "cell_type": "markdown",
   "id": "9aafba23",
   "metadata": {},
   "source": [
    "# Sentiment Analysis with TextBlob"
   ]
  },
  {
   "cell_type": "code",
   "execution_count": 65,
   "id": "ec778786",
   "metadata": {},
   "outputs": [],
   "source": [
    "df = pd.DataFrame(post_comments)"
   ]
  },
  {
   "cell_type": "code",
   "execution_count": 66,
   "id": "b0d63fb5",
   "metadata": {},
   "outputs": [],
   "source": [
    "from textblob import TextBlob"
   ]
  },
  {
   "cell_type": "code",
   "execution_count": 67,
   "id": "7aed9602",
   "metadata": {},
   "outputs": [],
   "source": [
    "import numpy as np"
   ]
  },
  {
   "cell_type": "code",
   "execution_count": 68,
   "id": "f544329f",
   "metadata": {},
   "outputs": [],
   "source": [
    "df['Sentiment'] = np.nan"
   ]
  },
  {
   "cell_type": "code",
   "execution_count": 69,
   "id": "0a7f1db7",
   "metadata": {},
   "outputs": [],
   "source": [
    "df.columns = ['Comment','Sentiment']"
   ]
  },
  {
   "cell_type": "code",
   "execution_count": 70,
   "id": "2989ce1e",
   "metadata": {},
   "outputs": [
    {
     "data": {
      "text/html": [
       "<div>\n",
       "<style scoped>\n",
       "    .dataframe tbody tr th:only-of-type {\n",
       "        vertical-align: middle;\n",
       "    }\n",
       "\n",
       "    .dataframe tbody tr th {\n",
       "        vertical-align: top;\n",
       "    }\n",
       "\n",
       "    .dataframe thead th {\n",
       "        text-align: right;\n",
       "    }\n",
       "</style>\n",
       "<table border=\"1\" class=\"dataframe\">\n",
       "  <thead>\n",
       "    <tr style=\"text-align: right;\">\n",
       "      <th></th>\n",
       "      <th>Comment</th>\n",
       "      <th>Sentiment</th>\n",
       "    </tr>\n",
       "  </thead>\n",
       "  <tbody>\n",
       "    <tr>\n",
       "      <th>0</th>\n",
       "      <td>One day Bitcoin is gonna allow me to give up w...</td>\n",
       "      <td>NaN</td>\n",
       "    </tr>\n",
       "    <tr>\n",
       "      <th>1</th>\n",
       "      <td>Volatility is the price you pay for the world'...</td>\n",
       "      <td>NaN</td>\n",
       "    </tr>\n",
       "    <tr>\n",
       "      <th>2</th>\n",
       "      <td>Just got back from a few days camping. Looks l...</td>\n",
       "      <td>NaN</td>\n",
       "    </tr>\n",
       "    <tr>\n",
       "      <th>3</th>\n",
       "      <td>I miss the days when everyday was green and my...</td>\n",
       "      <td>NaN</td>\n",
       "    </tr>\n",
       "    <tr>\n",
       "      <th>4</th>\n",
       "      <td>the good news is that the prices are still ver...</td>\n",
       "      <td>NaN</td>\n",
       "    </tr>\n",
       "    <tr>\n",
       "      <th>...</th>\n",
       "      <td>...</td>\n",
       "      <td>...</td>\n",
       "    </tr>\n",
       "    <tr>\n",
       "      <th>262</th>\n",
       "      <td>I don't have to, but I need an excuse to get d...</td>\n",
       "      <td>NaN</td>\n",
       "    </tr>\n",
       "    <tr>\n",
       "      <th>263</th>\n",
       "      <td>Bro it was a joke</td>\n",
       "      <td>NaN</td>\n",
       "    </tr>\n",
       "    <tr>\n",
       "      <th>264</th>\n",
       "      <td>Thankyou 🧁</td>\n",
       "      <td>NaN</td>\n",
       "    </tr>\n",
       "    <tr>\n",
       "      <th>265</th>\n",
       "      <td>True, there is always someone who is not doing...</td>\n",
       "      <td>NaN</td>\n",
       "    </tr>\n",
       "    <tr>\n",
       "      <th>266</th>\n",
       "      <td>Look, I may have not realized the extra bitcoi...</td>\n",
       "      <td>NaN</td>\n",
       "    </tr>\n",
       "  </tbody>\n",
       "</table>\n",
       "<p>267 rows × 2 columns</p>\n",
       "</div>"
      ],
      "text/plain": [
       "                                               Comment  Sentiment\n",
       "0    One day Bitcoin is gonna allow me to give up w...        NaN\n",
       "1    Volatility is the price you pay for the world'...        NaN\n",
       "2    Just got back from a few days camping. Looks l...        NaN\n",
       "3    I miss the days when everyday was green and my...        NaN\n",
       "4    the good news is that the prices are still ver...        NaN\n",
       "..                                                 ...        ...\n",
       "262  I don't have to, but I need an excuse to get d...        NaN\n",
       "263                                  Bro it was a joke        NaN\n",
       "264                                         Thankyou 🧁        NaN\n",
       "265  True, there is always someone who is not doing...        NaN\n",
       "266  Look, I may have not realized the extra bitcoi...        NaN\n",
       "\n",
       "[267 rows x 2 columns]"
      ]
     },
     "execution_count": 70,
     "metadata": {},
     "output_type": "execute_result"
    }
   ],
   "source": [
    "df"
   ]
  },
  {
   "cell_type": "markdown",
   "id": "ecfb41d4",
   "metadata": {},
   "source": [
    "Now I am going to assign the Sentiment value to each comment, using the following for loop."
   ]
  },
  {
   "cell_type": "code",
   "execution_count": 71,
   "id": "7307e5cc",
   "metadata": {},
   "outputs": [],
   "source": [
    "for index, row in df.iterrows():\n",
    "    comment_polarity = TextBlob(row['Comment']).sentiment.polarity\n",
    "    df.at[index,'Sentiment'] = comment_polarity"
   ]
  },
  {
   "cell_type": "code",
   "execution_count": 72,
   "id": "257f1b40",
   "metadata": {},
   "outputs": [
    {
     "data": {
      "text/html": [
       "<div>\n",
       "<style scoped>\n",
       "    .dataframe tbody tr th:only-of-type {\n",
       "        vertical-align: middle;\n",
       "    }\n",
       "\n",
       "    .dataframe tbody tr th {\n",
       "        vertical-align: top;\n",
       "    }\n",
       "\n",
       "    .dataframe thead th {\n",
       "        text-align: right;\n",
       "    }\n",
       "</style>\n",
       "<table border=\"1\" class=\"dataframe\">\n",
       "  <thead>\n",
       "    <tr style=\"text-align: right;\">\n",
       "      <th></th>\n",
       "      <th>Comment</th>\n",
       "      <th>Sentiment</th>\n",
       "    </tr>\n",
       "  </thead>\n",
       "  <tbody>\n",
       "    <tr>\n",
       "      <th>0</th>\n",
       "      <td>One day Bitcoin is gonna allow me to give up w...</td>\n",
       "      <td>0.000000</td>\n",
       "    </tr>\n",
       "    <tr>\n",
       "      <th>1</th>\n",
       "      <td>Volatility is the price you pay for the world'...</td>\n",
       "      <td>1.000000</td>\n",
       "    </tr>\n",
       "    <tr>\n",
       "      <th>2</th>\n",
       "      <td>Just got back from a few days camping. Looks l...</td>\n",
       "      <td>0.100000</td>\n",
       "    </tr>\n",
       "    <tr>\n",
       "      <th>3</th>\n",
       "      <td>I miss the days when everyday was green and my...</td>\n",
       "      <td>-0.200000</td>\n",
       "    </tr>\n",
       "    <tr>\n",
       "      <th>4</th>\n",
       "      <td>the good news is that the prices are still ver...</td>\n",
       "      <td>0.303333</td>\n",
       "    </tr>\n",
       "    <tr>\n",
       "      <th>...</th>\n",
       "      <td>...</td>\n",
       "      <td>...</td>\n",
       "    </tr>\n",
       "    <tr>\n",
       "      <th>262</th>\n",
       "      <td>I don't have to, but I need an excuse to get d...</td>\n",
       "      <td>-0.275000</td>\n",
       "    </tr>\n",
       "    <tr>\n",
       "      <th>263</th>\n",
       "      <td>Bro it was a joke</td>\n",
       "      <td>0.000000</td>\n",
       "    </tr>\n",
       "    <tr>\n",
       "      <th>264</th>\n",
       "      <td>Thankyou 🧁</td>\n",
       "      <td>0.000000</td>\n",
       "    </tr>\n",
       "    <tr>\n",
       "      <th>265</th>\n",
       "      <td>True, there is always someone who is not doing...</td>\n",
       "      <td>0.350000</td>\n",
       "    </tr>\n",
       "    <tr>\n",
       "      <th>266</th>\n",
       "      <td>Look, I may have not realized the extra bitcoi...</td>\n",
       "      <td>0.500000</td>\n",
       "    </tr>\n",
       "  </tbody>\n",
       "</table>\n",
       "<p>267 rows × 2 columns</p>\n",
       "</div>"
      ],
      "text/plain": [
       "                                               Comment  Sentiment\n",
       "0    One day Bitcoin is gonna allow me to give up w...   0.000000\n",
       "1    Volatility is the price you pay for the world'...   1.000000\n",
       "2    Just got back from a few days camping. Looks l...   0.100000\n",
       "3    I miss the days when everyday was green and my...  -0.200000\n",
       "4    the good news is that the prices are still ver...   0.303333\n",
       "..                                                 ...        ...\n",
       "262  I don't have to, but I need an excuse to get d...  -0.275000\n",
       "263                                  Bro it was a joke   0.000000\n",
       "264                                         Thankyou 🧁   0.000000\n",
       "265  True, there is always someone who is not doing...   0.350000\n",
       "266  Look, I may have not realized the extra bitcoi...   0.500000\n",
       "\n",
       "[267 rows x 2 columns]"
      ]
     },
     "execution_count": 72,
     "metadata": {},
     "output_type": "execute_result"
    }
   ],
   "source": [
    "df"
   ]
  },
  {
   "cell_type": "markdown",
   "id": "5abad853",
   "metadata": {},
   "source": [
    "\n",
    "We got the Sentiment values for each comment. However, it does not look good.  there is another problem.\n",
    "\n",
    "TextBlob will not recognise everyword, and when it comes to social media comments like this where spelling errors are very much possible. Here, the unrecognised words are given the sentiment value of 0.\n",
    "\n",
    "Thus, in order to prevent this, I am  going to ignore any comments with the sentiment value of 0 to extract the best results. "
   ]
  },
  {
   "cell_type": "code",
   "execution_count": 73,
   "id": "0e4dfd12",
   "metadata": {},
   "outputs": [],
   "source": [
    "unwanted_index = []"
   ]
  },
  {
   "cell_type": "code",
   "execution_count": 74,
   "id": "99abe6f6",
   "metadata": {},
   "outputs": [],
   "source": [
    "for index,row in df.iterrows():\n",
    "    if row['Sentiment'] == 0.0:\n",
    "        unwanted_index.append(index)"
   ]
  },
  {
   "cell_type": "markdown",
   "id": "bff1fdf1",
   "metadata": {},
   "source": [
    "Now the indices of the comments with 0 sentiment value are stored in the list unwanted_index."
   ]
  },
  {
   "cell_type": "code",
   "execution_count": 75,
   "id": "00624a95",
   "metadata": {},
   "outputs": [
    {
     "data": {
      "text/plain": [
       "97"
      ]
     },
     "execution_count": 75,
     "metadata": {},
     "output_type": "execute_result"
    }
   ],
   "source": [
    "len(unwanted_index)"
   ]
  },
  {
   "cell_type": "markdown",
   "id": "afe20696",
   "metadata": {},
   "source": [
    "This shows that 57 comments have 0 sentiment value, so I am going to remove them. Nonetheless, the remaining comments are enough for the analysis, the large number of rejected comments show the imperfection of this method. "
   ]
  },
  {
   "cell_type": "code",
   "execution_count": 76,
   "id": "6c7a8c22",
   "metadata": {},
   "outputs": [],
   "source": [
    "final_data = df.drop(unwanted_index)"
   ]
  },
  {
   "cell_type": "code",
   "execution_count": 77,
   "id": "f04b5e4e",
   "metadata": {},
   "outputs": [
    {
     "data": {
      "text/html": [
       "<div>\n",
       "<style scoped>\n",
       "    .dataframe tbody tr th:only-of-type {\n",
       "        vertical-align: middle;\n",
       "    }\n",
       "\n",
       "    .dataframe tbody tr th {\n",
       "        vertical-align: top;\n",
       "    }\n",
       "\n",
       "    .dataframe thead th {\n",
       "        text-align: right;\n",
       "    }\n",
       "</style>\n",
       "<table border=\"1\" class=\"dataframe\">\n",
       "  <thead>\n",
       "    <tr style=\"text-align: right;\">\n",
       "      <th></th>\n",
       "      <th>Comment</th>\n",
       "      <th>Sentiment</th>\n",
       "    </tr>\n",
       "  </thead>\n",
       "  <tbody>\n",
       "    <tr>\n",
       "      <th>1</th>\n",
       "      <td>Volatility is the price you pay for the world'...</td>\n",
       "      <td>1.000000</td>\n",
       "    </tr>\n",
       "    <tr>\n",
       "      <th>2</th>\n",
       "      <td>Just got back from a few days camping. Looks l...</td>\n",
       "      <td>0.100000</td>\n",
       "    </tr>\n",
       "    <tr>\n",
       "      <th>3</th>\n",
       "      <td>I miss the days when everyday was green and my...</td>\n",
       "      <td>-0.200000</td>\n",
       "    </tr>\n",
       "    <tr>\n",
       "      <th>4</th>\n",
       "      <td>the good news is that the prices are still ver...</td>\n",
       "      <td>0.303333</td>\n",
       "    </tr>\n",
       "    <tr>\n",
       "      <th>5</th>\n",
       "      <td>How can anyone say volatility is bad if they e...</td>\n",
       "      <td>-0.056250</td>\n",
       "    </tr>\n",
       "    <tr>\n",
       "      <th>...</th>\n",
       "      <td>...</td>\n",
       "      <td>...</td>\n",
       "    </tr>\n",
       "    <tr>\n",
       "      <th>260</th>\n",
       "      <td>I'll take the green dildos but I still don't b...</td>\n",
       "      <td>-0.125000</td>\n",
       "    </tr>\n",
       "    <tr>\n",
       "      <th>261</th>\n",
       "      <td>Damn, no wonder your bitcoin stack is half wha...</td>\n",
       "      <td>-0.406901</td>\n",
       "    </tr>\n",
       "    <tr>\n",
       "      <th>262</th>\n",
       "      <td>I don't have to, but I need an excuse to get d...</td>\n",
       "      <td>-0.275000</td>\n",
       "    </tr>\n",
       "    <tr>\n",
       "      <th>265</th>\n",
       "      <td>True, there is always someone who is not doing...</td>\n",
       "      <td>0.350000</td>\n",
       "    </tr>\n",
       "    <tr>\n",
       "      <th>266</th>\n",
       "      <td>Look, I may have not realized the extra bitcoi...</td>\n",
       "      <td>0.500000</td>\n",
       "    </tr>\n",
       "  </tbody>\n",
       "</table>\n",
       "<p>170 rows × 2 columns</p>\n",
       "</div>"
      ],
      "text/plain": [
       "                                               Comment  Sentiment\n",
       "1    Volatility is the price you pay for the world'...   1.000000\n",
       "2    Just got back from a few days camping. Looks l...   0.100000\n",
       "3    I miss the days when everyday was green and my...  -0.200000\n",
       "4    the good news is that the prices are still ver...   0.303333\n",
       "5    How can anyone say volatility is bad if they e...  -0.056250\n",
       "..                                                 ...        ...\n",
       "260  I'll take the green dildos but I still don't b...  -0.125000\n",
       "261  Damn, no wonder your bitcoin stack is half wha...  -0.406901\n",
       "262  I don't have to, but I need an excuse to get d...  -0.275000\n",
       "265  True, there is always someone who is not doing...   0.350000\n",
       "266  Look, I may have not realized the extra bitcoi...   0.500000\n",
       "\n",
       "[170 rows x 2 columns]"
      ]
     },
     "execution_count": 77,
     "metadata": {},
     "output_type": "execute_result"
    }
   ],
   "source": [
    "final_data"
   ]
  },
  {
   "cell_type": "code",
   "execution_count": 78,
   "id": "f123580a",
   "metadata": {},
   "outputs": [
    {
     "data": {
      "text/html": [
       "<div>\n",
       "<style scoped>\n",
       "    .dataframe tbody tr th:only-of-type {\n",
       "        vertical-align: middle;\n",
       "    }\n",
       "\n",
       "    .dataframe tbody tr th {\n",
       "        vertical-align: top;\n",
       "    }\n",
       "\n",
       "    .dataframe thead th {\n",
       "        text-align: right;\n",
       "    }\n",
       "</style>\n",
       "<table border=\"1\" class=\"dataframe\">\n",
       "  <thead>\n",
       "    <tr style=\"text-align: right;\">\n",
       "      <th></th>\n",
       "      <th>Sentiment</th>\n",
       "    </tr>\n",
       "  </thead>\n",
       "  <tbody>\n",
       "    <tr>\n",
       "      <th>count</th>\n",
       "      <td>170.000000</td>\n",
       "    </tr>\n",
       "    <tr>\n",
       "      <th>mean</th>\n",
       "      <td>0.163883</td>\n",
       "    </tr>\n",
       "    <tr>\n",
       "      <th>std</th>\n",
       "      <td>0.361617</td>\n",
       "    </tr>\n",
       "    <tr>\n",
       "      <th>min</th>\n",
       "      <td>-0.910000</td>\n",
       "    </tr>\n",
       "    <tr>\n",
       "      <th>25%</th>\n",
       "      <td>-0.100000</td>\n",
       "    </tr>\n",
       "    <tr>\n",
       "      <th>50%</th>\n",
       "      <td>0.167619</td>\n",
       "    </tr>\n",
       "    <tr>\n",
       "      <th>75%</th>\n",
       "      <td>0.481250</td>\n",
       "    </tr>\n",
       "    <tr>\n",
       "      <th>max</th>\n",
       "      <td>1.000000</td>\n",
       "    </tr>\n",
       "  </tbody>\n",
       "</table>\n",
       "</div>"
      ],
      "text/plain": [
       "        Sentiment\n",
       "count  170.000000\n",
       "mean     0.163883\n",
       "std      0.361617\n",
       "min     -0.910000\n",
       "25%     -0.100000\n",
       "50%      0.167619\n",
       "75%      0.481250\n",
       "max      1.000000"
      ]
     },
     "execution_count": 78,
     "metadata": {},
     "output_type": "execute_result"
    }
   ],
   "source": [
    "final_data.describe()"
   ]
  },
  {
   "cell_type": "markdown",
   "id": "af3e875a",
   "metadata": {},
   "source": [
    "# Positive And Negative Comments "
   ]
  },
  {
   "cell_type": "markdown",
   "id": "e30533ff",
   "metadata": {},
   "source": [
    "Now, I am going to find the  number of positive and negative comments."
   ]
  },
  {
   "cell_type": "code",
   "execution_count": 80,
   "id": "7f6acb21",
   "metadata": {},
   "outputs": [],
   "source": [
    "positive_count = 0\n",
    "negative_count = 0"
   ]
  },
  {
   "cell_type": "code",
   "execution_count": 81,
   "id": "cca28e64",
   "metadata": {},
   "outputs": [],
   "source": [
    "for index, row in final_data.iterrows():\n",
    "    if row['Sentiment'] > 0:\n",
    "        positive_count += 1\n",
    "    elif row['Sentiment'] < 0:\n",
    "        negative_count += 1"
   ]
  },
  {
   "cell_type": "code",
   "execution_count": 82,
   "id": "6b103b33",
   "metadata": {},
   "outputs": [
    {
     "data": {
      "text/plain": [
       "(111, 59)"
      ]
     },
     "execution_count": 82,
     "metadata": {},
     "output_type": "execute_result"
    }
   ],
   "source": [
    "positive_count, negative_count"
   ]
  },
  {
   "cell_type": "markdown",
   "id": "1470225e",
   "metadata": {},
   "source": [
    "Here I can infer that TextBlob gave me 111 comments which are positive, and there are 59 comments which are negative.  \n",
    "\n",
    "Now let's analyze the sentiment value distribution in a graphical fashion, using the seaborn library."
   ]
  },
  {
   "cell_type": "code",
   "execution_count": 83,
   "id": "14a6040f",
   "metadata": {},
   "outputs": [],
   "source": [
    "import seaborn as sns"
   ]
  },
  {
   "cell_type": "code",
   "execution_count": 84,
   "id": "12f9dbef",
   "metadata": {},
   "outputs": [
    {
     "data": {
      "text/plain": [
       "<seaborn.axisgrid.FacetGrid at 0x7fefe29cffa0>"
      ]
     },
     "execution_count": 84,
     "metadata": {},
     "output_type": "execute_result"
    },
    {
     "data": {
      "image/png": "[encoded data removed]",
      "text/plain": [
       "<Figure size 360x360 with 1 Axes>"
      ]
     },
     "metadata": {
      "needs_background": "light"
     },
     "output_type": "display_data"
    }
   ],
   "source": [
    "sns.displot(x=final_data['Sentiment'])"
   ]
  },
  {
   "cell_type": "markdown",
   "id": "6da0f187",
   "metadata": {},
   "source": [
    "Most of the comments have a sentiment value between -0.25 to 0.50. The other insight is that the majority of comments are slightly to moderately positive.\n",
    "\n",
    "lastly, let's do some analysis on word frequency. For that I will use the Spacy library, which is primary and free used for Natural Language Processing (NLP). IO already loaded the Spacy  library at the top of the notebook."
   ]
  },
  {
   "cell_type": "code",
   "execution_count": 85,
   "id": "55cddc96",
   "metadata": {},
   "outputs": [],
   "source": [
    "import spacy\n",
    "nlp = spacy.load(\"en_core_web_sm\")"
   ]
  },
  {
   "cell_type": "code",
   "execution_count": 86,
   "id": "d94a822a",
   "metadata": {},
   "outputs": [],
   "source": [
    "complete_doc = nlp(str(post_comments))"
   ]
  },
  {
   "cell_type": "code",
   "execution_count": 87,
   "id": "442ea143",
   "metadata": {},
   "outputs": [],
   "source": [
    "words = [token.text for token in complete_doc if not token.is_stop and not token.is_punct and token.pos_ == 'PROPN']"
   ]
  },
  {
   "cell_type": "code",
   "execution_count": 88,
   "id": "c2d66ee5",
   "metadata": {},
   "outputs": [],
   "source": [
    "from collections import Counter"
   ]
  },
  {
   "cell_type": "code",
   "execution_count": 89,
   "id": "9fc21c05",
   "metadata": {},
   "outputs": [],
   "source": [
    "word_freq = Counter(words)"
   ]
  },
  {
   "cell_type": "code",
   "execution_count": 90,
   "id": "0883de39",
   "metadata": {},
   "outputs": [],
   "source": [
    "common_words = word_freq.most_common(10)"
   ]
  },
  {
   "cell_type": "code",
   "execution_count": 91,
   "id": "f9614ee2",
   "metadata": {},
   "outputs": [
    {
     "data": {
      "text/plain": [
       "[('BTC', 13),\n",
       " ('DCA', 6),\n",
       " ('crypto', 6),\n",
       " ('ETH', 5),\n",
       " ('Lmao', 4),\n",
       " ('Bitcoin', 3),\n",
       " ('btc', 3),\n",
       " ('🌹', 2),\n",
       " ('ROSE', 2),\n",
       " ('ICP', 2)]"
      ]
     },
     "execution_count": 91,
     "metadata": {},
     "output_type": "execute_result"
    }
   ],
   "source": [
    "common_words"
   ]
  },
  {
   "cell_type": "code",
   "execution_count": 92,
   "id": "94127160",
   "metadata": {},
   "outputs": [],
   "source": [
    "positive_words = [token.text for token in complete_doc if not token.is_stop and not token.is_punct and TextBlob(str(token)).sentiment.polarity > 0]"
   ]
  },
  {
   "cell_type": "code",
   "execution_count": 93,
   "id": "819f5cc7",
   "metadata": {},
   "outputs": [],
   "source": [
    "positive_freq = Counter(positive_words)"
   ]
  },
  {
   "cell_type": "code",
   "execution_count": 94,
   "id": "321f0823",
   "metadata": {},
   "outputs": [],
   "source": [
    "common_positive_words = positive_freq.most_common(10)"
   ]
  },
  {
   "cell_type": "code",
   "execution_count": 95,
   "id": "a24d8a94",
   "metadata": {},
   "outputs": [
    {
     "data": {
      "text/plain": [
       "[('good', 10),\n",
       " ('better', 8),\n",
       " ('sure', 7),\n",
       " ('best', 6),\n",
       " ('lol', 6),\n",
       " ('pretty', 5),\n",
       " ('nice', 4),\n",
       " ('right', 4),\n",
       " ('Lmao', 4),\n",
       " ('real', 3)]"
      ]
     },
     "execution_count": 95,
     "metadata": {},
     "output_type": "execute_result"
    }
   ],
   "source": [
    "common_positive_words"
   ]
  },
  {
   "cell_type": "code",
   "execution_count": 96,
   "id": "332a591b",
   "metadata": {},
   "outputs": [
    {
     "data": {
      "text/plain": [
       "list"
      ]
     },
     "execution_count": 96,
     "metadata": {},
     "output_type": "execute_result"
    }
   ],
   "source": [
    "type(common_positive_words)"
   ]
  },
  {
   "cell_type": "code",
   "execution_count": 97,
   "id": "b133d5cc",
   "metadata": {},
   "outputs": [],
   "source": [
    "a,b = zip(*common_positive_words)"
   ]
  },
  {
   "cell_type": "code",
   "execution_count": 98,
   "id": "62140379",
   "metadata": {},
   "outputs": [],
   "source": [
    "a = np.array(a)\n",
    "b = np.array(b)"
   ]
  },
  {
   "cell_type": "code",
   "execution_count": 99,
   "id": "44257e52",
   "metadata": {},
   "outputs": [
    {
     "name": "stderr",
     "output_type": "stream",
     "text": [
      "/Users/memonzzmahnoor/opt/anaconda3/lib/python3.9/site-packages/seaborn/_decorators.py:36: FutureWarning: Pass the following variables as keyword args: x, y. From version 0.12, the only valid positional argument will be `data`, and passing other arguments without an explicit keyword will result in an error or misinterpretation.\n",
      "  warnings.warn(\n"
     ]
    },
    {
     "data": {
      "text/plain": [
       "Text(0.5, 1.0, 'Top 10 frequently used positive words')"
      ]
     },
     "execution_count": 99,
     "metadata": {},
     "output_type": "execute_result"
    },
    {
     "data": {
      "image/png": "[encoded data removed]",
      "text/plain": [
       "<Figure size 432x288 with 1 Axes>"
      ]
     },
     "metadata": {
      "needs_background": "light"
     },
     "output_type": "display_data"
    }
   ],
   "source": [
    "sns.barplot(a,b,color = 'green').set_title('Top 10 frequently used positive words')"
   ]
  },
  {
   "cell_type": "code",
   "execution_count": null,
   "id": "2238e6cb",
   "metadata": {},
   "outputs": [],
   "source": []
  },
  {
   "cell_type": "code",
   "execution_count": null,
   "id": "9597a576",
   "metadata": {},
   "outputs": [],
   "source": []
  }
 ],
 "metadata": {
  "kernelspec": {
   "display_name": "Python 3 (ipykernel)",
   "language": "python",
   "name": "python3"
  },
  "language_info": {
   "codemirror_mode": {
    "name": "ipython",
    "version": 3
   },
   "file_extension": ".py",
   "mimetype": "text/x-python",
   "name": "python",
   "nbconvert_exporter": "python",
   "pygments_lexer": "ipython3",
   "version": "3.9.12"
  },
  "toc": {
   "base_numbering": 1,
   "nav_menu": {},
   "number_sections": true,
   "sideBar": true,
   "skip_h1_title": false,
   "title_cell": "Table of Contents",
   "title_sidebar": "Contents",
   "toc_cell": false,
   "toc_position": {},
   "toc_section_display": true,
   "toc_window_display": false
  },
  "varInspector": {
   "cols": {
    "lenName": 16,
    "lenType": 16,
    "lenVar": 40
   },
   "kernels_config": {
    "python": {
     "delete_cmd_postfix": "",
     "delete_cmd_prefix": "del ",
     "library": "var_list.py",
     "varRefreshCmd": "print(var_dic_list())"
    },
    "r": {
     "delete_cmd_postfix": ") ",
     "delete_cmd_prefix": "rm(",
     "library": "var_list.r",
     "varRefreshCmd": "cat(var_dic_list()) "
    }
   },
   "types_to_exclude": [
    "module",
    "function",
    "builtin_function_or_method",
    "instance",
    "_Feature"
   ],
   "window_display": false
  }
 },
 "nbformat": 4,
 "nbformat_minor": 5
}
